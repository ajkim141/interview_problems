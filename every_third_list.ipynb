{
 "metadata": {
  "name": "",
  "signature": "sha256:b740884d84d183c55be4f838ce47af8fa69c5010e852ab9d353e95038f59aa4b"
 },
 "nbformat": 3,
 "nbformat_minor": 0,
 "worksheets": [
  {
   "cells": [
    {
     "cell_type": "markdown",
     "metadata": {},
     "source": [
      "Create a new list with every third element of a given list."
     ]
    },
    {
     "cell_type": "code",
     "collapsed": false,
     "input": [
      "some_list = [1, 2, 3, 4, 5, 6, 7, 8, 9]"
     ],
     "language": "python",
     "metadata": {},
     "outputs": [],
     "prompt_number": 1
    },
    {
     "cell_type": "code",
     "collapsed": false,
     "input": [
      "other_list = some_list[2::3]\n",
      "\n",
      "other_list"
     ],
     "language": "python",
     "metadata": {},
     "outputs": [
      {
       "metadata": {},
       "output_type": "pyout",
       "prompt_number": 8,
       "text": [
        "[3, 6, 9]"
       ]
      }
     ],
     "prompt_number": 8
    },
    {
     "cell_type": "markdown",
     "metadata": {},
     "source": [
      "Starting with the 0th element:"
     ]
    },
    {
     "cell_type": "code",
     "collapsed": false,
     "input": [
      "[x for i, x in enumerate(some_list) if i%3 == 0]"
     ],
     "language": "python",
     "metadata": {},
     "outputs": [
      {
       "metadata": {},
       "output_type": "pyout",
       "prompt_number": 9,
       "text": [
        "[1, 4, 7]"
       ]
      }
     ],
     "prompt_number": 9
    },
    {
     "cell_type": "code",
     "collapsed": false,
     "input": [],
     "language": "python",
     "metadata": {},
     "outputs": []
    }
   ],
   "metadata": {}
  }
 ]
}