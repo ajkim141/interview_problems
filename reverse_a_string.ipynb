{
 "metadata": {
  "name": "",
  "signature": "sha256:308d46487f413d172272391509f7dcd763c0ae26d155072bb33855c1c137ae2d"
 },
 "nbformat": 3,
 "nbformat_minor": 0,
 "worksheets": [
  {
   "cells": [
    {
     "cell_type": "markdown",
     "metadata": {},
     "source": [
      "Reverse a given string"
     ]
    },
    {
     "cell_type": "code",
     "collapsed": false,
     "input": [
      "stryng = 'this is my only line'"
     ],
     "language": "python",
     "metadata": {},
     "outputs": [],
     "prompt_number": 4
    },
    {
     "cell_type": "code",
     "collapsed": false,
     "input": [
      "stryng[::-1]"
     ],
     "language": "python",
     "metadata": {},
     "outputs": [
      {
       "metadata": {},
       "output_type": "pyout",
       "prompt_number": 6,
       "text": [
        "'enil ylno ym si siht'"
       ]
      }
     ],
     "prompt_number": 6
    },
    {
     "cell_type": "code",
     "collapsed": false,
     "input": [
      "# Using only loops:\n",
      "\n",
      "gnyrts = ''\n",
      "for i in xrange(len(stryng)-1, -1, -1,):\n",
      "    gnyrts += stryng[i]\n",
      "    \n",
      "gnyrts"
     ],
     "language": "python",
     "metadata": {},
     "outputs": [
      {
       "metadata": {},
       "output_type": "pyout",
       "prompt_number": 8,
       "text": [
        "'enil ylno ym si siht'"
       ]
      }
     ],
     "prompt_number": 8
    },
    {
     "cell_type": "code",
     "collapsed": false,
     "input": [],
     "language": "python",
     "metadata": {},
     "outputs": []
    }
   ],
   "metadata": {}
  }
 ]
}