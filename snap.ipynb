{
 "metadata": {
  "name": "",
  "signature": "sha256:5dce4d813075ffa9a7abd172db707e11f8aea6a82147c5b5e19219ec3b35e408"
 },
 "nbformat": 3,
 "nbformat_minor": 0,
 "worksheets": [
  {
   "cells": [
    {
     "cell_type": "markdown",
     "metadata": {},
     "source": [
      "Write a program that prints out the numbers 1 to 100 (inclusive). If the number is divisible by 3, print Crackle instead of the number. If it's divisible by 5, print Pop. If it's divisible by both 3 and 5, print CracklePop. "
     ]
    },
    {
     "cell_type": "code",
     "collapsed": false,
     "input": [
      "def snap(num):\n",
      "    x = []\n",
      "    for i in xrange (1, num+1):\n",
      "        if i % 3 == 0 and i % 5 == 0:\n",
      "            x.append(\"CracklePop\")\n",
      "        elif i % 3 == 0:\n",
      "            x.append(\"Crackle\")\n",
      "        elif i % 5 == 0:\n",
      "            x.append(\"Pop\")\n",
      "        else:\n",
      "            x.append(i)\n",
      "    \n",
      "    print x"
     ],
     "language": "python",
     "metadata": {},
     "outputs": [],
     "prompt_number": 3
    },
    {
     "cell_type": "code",
     "collapsed": false,
     "input": [
      "snap (100)"
     ],
     "language": "python",
     "metadata": {},
     "outputs": [
      {
       "output_type": "stream",
       "stream": "stdout",
       "text": [
        "[1, 2, 'Crackle', 4, 'Pop', 'Crackle', 7, 8, 'Crackle', 'Pop', 11, 'Crackle', 13, 14, 'CracklePop', 16, 17, 'Crackle', 19, 'Pop', 'Crackle', 22, 23, 'Crackle', 'Pop', 26, 'Crackle', 28, 29, 'CracklePop', 31, 32, 'Crackle', 34, 'Pop', 'Crackle', 37, 38, 'Crackle', 'Pop', 41, 'Crackle', 43, 44, 'CracklePop', 46, 47, 'Crackle', 49, 'Pop', 'Crackle', 52, 53, 'Crackle', 'Pop', 56, 'Crackle', 58, 59, 'CracklePop', 61, 62, 'Crackle', 64, 'Pop', 'Crackle', 67, 68, 'Crackle', 'Pop', 71, 'Crackle', 73, 74, 'CracklePop', 76, 77, 'Crackle', 79, 'Pop', 'Crackle', 82, 83, 'Crackle', 'Pop', 86, 'Crackle', 88, 89, 'CracklePop', 91, 92, 'Crackle', 94, 'Pop', 'Crackle', 97, 98, 'Crackle', 'Pop']\n"
       ]
      }
     ],
     "prompt_number": 4
    },
    {
     "cell_type": "code",
     "collapsed": false,
     "input": [],
     "language": "python",
     "metadata": {},
     "outputs": []
    }
   ],
   "metadata": {}
  }
 ]
}