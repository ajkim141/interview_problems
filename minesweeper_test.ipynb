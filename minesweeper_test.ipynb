{
 "metadata": {
  "name": "",
  "signature": "sha256:4c7c3ae713eb5db12e4047973b4bc1fa00feabef9dba1c63a043bc71746136bb"
 },
 "nbformat": 3,
 "nbformat_minor": 0,
 "worksheets": [
  {
   "cells": [
    {
     "cell_type": "code",
     "collapsed": false,
     "input": [
      "def draw_grid(height, width):\n",
      "    for x in xrange(height+1):\n",
      "        print [\" \"] * width"
     ],
     "language": "python",
     "metadata": {},
     "outputs": [],
     "prompt_number": 1
    },
    {
     "cell_type": "code",
     "collapsed": false,
     "input": [
      "draw_grid(3, 3)"
     ],
     "language": "python",
     "metadata": {},
     "outputs": [
      {
       "output_type": "stream",
       "stream": "stdout",
       "text": [
        "[' ', ' ', ' ']\n",
        "[' ', ' ', ' ']\n",
        "[' ', ' ', ' ']\n",
        "[' ', ' ', ' ']\n"
       ]
      }
     ],
     "prompt_number": 2
    },
    {
     "cell_type": "code",
     "collapsed": false,
     "input": [
      "def draw_grid(grid):\n",
      "    print (grid[7] + grid[8] + grid[9])\n",
      "    print (grid[4] + grid[5] + grid[6])\n",
      "    print (grid[1] + grid[2] + grid[3])\n"
     ],
     "language": "python",
     "metadata": {},
     "outputs": [],
     "prompt_number": 3
    },
    {
     "cell_type": "code",
     "collapsed": false,
     "input": [
      "grd = \"[ ]\" * 10"
     ],
     "language": "python",
     "metadata": {},
     "outputs": [],
     "prompt_number": 8
    },
    {
     "cell_type": "code",
     "collapsed": false,
     "input": [
      "draw_grid(grd)"
     ],
     "language": "python",
     "metadata": {},
     "outputs": [
      {
       "output_type": "stream",
       "stream": "stdout",
       "text": [
        " ][\n",
        " ][\n",
        " ][\n"
       ]
      }
     ],
     "prompt_number": 9
    },
    {
     "cell_type": "code",
     "collapsed": false,
     "input": [
      "r1 = [\"X\",\"X\",\"X\",\"X\",\"X\",\"X\",\"X\"]\n",
      "r2 = [\"X\",\"X\",\"X\",\"X\",\"X\",\"X\",\"X\"]\n",
      "r3 = [\"X\",\"X\",\"X\",\"X\",\"X\",\"X\",\"X\"]\n",
      "r4 = [\"X\",\"X\",\"X\",\"X\",\"X\",\"X\",\"X\"]\n",
      "r5 = [\"X\",\"X\",\"X\",\"X\",\"X\",\"X\",\"X\"]\n",
      "r6 = [\"X\",\"X\",\"X\",\"X\",\"X\",\"X\",\"X\"]\n",
      "r7 = [\"X\",\"X\",\"X\",\"X\",\"X\",\"X\",\"X\"]\n",
      "\n",
      "board = [r1, r2, r3, r4, r5, r6, r7]\n",
      "\n",
      "# Draw the board\n",
      "\n",
      "def draw_grid(board):\n",
      "    print (\"    1    2    3    4    5    6    7\")\n",
      "    print 1 , board[0]\n",
      "    print 2 , board[1]\n",
      "    print 3 , board[2]\n",
      "    print 4 , board[3]\n",
      "    print 5 , board[4]\n",
      "    print 6 , board[5]\n",
      "    print 7 , board[6]\n",
      "    "
     ],
     "language": "python",
     "metadata": {},
     "outputs": [],
     "prompt_number": 19
    },
    {
     "cell_type": "code",
     "collapsed": false,
     "input": [
      "draw_grid(board)"
     ],
     "language": "python",
     "metadata": {},
     "outputs": [
      {
       "output_type": "stream",
       "stream": "stdout",
       "text": [
        "    1    2    3    4    5    6    7\n",
        "1 ['X', 'X', 'X', 'X', 'X', 'X', 'X']\n",
        "2 ['X', 'X', 'X', 'X', 'X', 'X', 'X']\n",
        "3 ['X', 'X', 'X', 'X', 'X', 'X', 'X']\n",
        "4 ['X', 'X', 'X', 'X', 'X', 'X', 'X']\n",
        "5 ['X', 'X', 'X', 'X', 'X', 'X', 'X']\n",
        "6 ['X', 'X', 'X', 'X', 'X', 'X', 'X']\n",
        "7 ['X', 'X', 'X', 'X', 'X', 'X', 'X']\n"
       ]
      }
     ],
     "prompt_number": 21
    },
    {
     "cell_type": "code",
     "collapsed": false,
     "input": [
      "r1 = [\"X\",\"X\",\"X\",\"X\",\"X\",\"X\",\"X\"]\n",
      "r2 = [\"X\",\"X\",\"X\",\"X\",\"X\",\"X\",\"X\"]\n",
      "r3 = [\"X\",\"X\",\"X\",\"X\",\"X\",\"X\",\"X\"]\n",
      "r4 = [\"X\",\"X\",\"X\",\"X\",\"X\",\"X\",\"X\"]\n",
      "r5 = [\"X\",\"X\",\"X\",\"X\",\"X\",\"X\",\"X\"]\n",
      "r6 = [\"X\",\"X\",\"X\",\"X\",\"X\",\"X\",\"X\"]\n",
      "r7 = [\"X\",\"X\",\"X\",\"X\",\"X\",\"X\",\"X\"]\n",
      "\n",
      "game_board = [r1, r2, r3, r4, r5, r6, r7]\n",
      "\n",
      "# Draw the board\n",
      "\n",
      "def draw_grid(board):\n",
      "    print (\"    1    2    3    4    5    6    7\")\n",
      "    print 1 , board[0]\n",
      "    print 2 , board[1]\n",
      "    print 3 , board[2]\n",
      "    print 4 , board[3]\n",
      "    print 5 , board[4]\n",
      "    print 6 , board[5]\n",
      "    print 7 , board[6]\n",
      "\n",
      "# Randomize mines\n",
      "def random_mines(board):\n",
      "    board[0] = [(False, random.randint(0, 1)),(False, random.randint(0, 1)),(False, random.randint(0, 1)),(False, random.randint(0, 1)),(False, random.randint(0, 1)),(False, random.randint(0, 1)),(False, random.randint(0, 1))]\n",
      "    board[1] = [(False, random.randint(0, 1)),(False, random.randint(0, 1)),(False, random.randint(0, 1)),(False, random.randint(0, 1)),(False, random.randint(0, 1)),(False, random.randint(0, 1)),(False, random.randint(0, 1))]\n",
      "    board[2] = [(False, random.randint(0, 1)),(False, random.randint(0, 1)),(False, random.randint(0, 1)),(False, random.randint(0, 1)),(False, random.randint(0, 1)),(False, random.randint(0, 1)),(False, random.randint(0, 1))]\n",
      "    board[3] = [(False, random.randint(0, 1)),(False, random.randint(0, 1)),(False, random.randint(0, 1)),(False, random.randint(0, 1)),(False, random.randint(0, 1)),(False, random.randint(0, 1)),(False, random.randint(0, 1))]\n",
      "    board[4] = [(False, random.randint(0, 1)),(False, random.randint(0, 1)),(False, random.randint(0, 1)),(False, random.randint(0, 1)),(False, random.randint(0, 1)),(False, random.randint(0, 1)),(False, random.randint(0, 1))]\n",
      "    board[5] = [(False, random.randint(0, 1)),(False, random.randint(0, 1)),(False, random.randint(0, 1)),(False, random.randint(0, 1)),(False, random.randint(0, 1)),(False, random.randint(0, 1)),(False, random.randint(0, 1))]\n",
      "    board[6] = [(False, random.randint(0, 1)),(False, random.randint(0, 1)),(False, random.randint(0, 1)),(False, random.randint(0, 1)),(False, random.randint(0, 1)),(False, random.randint(0, 1)),(False, random.randint(0, 1))]\n",
      "    \n",
      "    game_board = [board[0], board[1], board[2], board[3], board[4], board[5], board[6]]"
     ],
     "language": "python",
     "metadata": {},
     "outputs": [],
     "prompt_number": 30
    },
    {
     "cell_type": "code",
     "collapsed": false,
     "input": [],
     "language": "python",
     "metadata": {},
     "outputs": [],
     "prompt_number": 30
    },
    {
     "cell_type": "code",
     "collapsed": false,
     "input": [
      "draw_grid(board)"
     ],
     "language": "python",
     "metadata": {},
     "outputs": [
      {
       "output_type": "stream",
       "stream": "stdout",
       "text": [
        "    1    2    3    4    5    6    7\n",
        "1 [(False, 1), (False, 1), (False, 1), (False, 1), (False, 0), (False, 1), (False, 1)]\n",
        "2 [(False, 0), (False, 0), (False, 0), (False, 1), (False, 0), (False, 1), (False, 0)]\n",
        "3 [(False, 0), (False, 0), (False, 1), (False, 0), (False, 0), (False, 0), (False, 0)]\n",
        "4 [(False, 1), (False, 1), (False, 1), (False, 1), (False, 1), (False, 1), (False, 0)]\n",
        "5 [(False, 1), (False, 1), (False, 1), (False, 1), (False, 0), (False, 0), (False, 0)]\n",
        "6 [(False, 0), (False, 1), (False, 0), (False, 0), (False, 1), (False, 1), (False, 0)]\n",
        "7 [(False, 0), (False, 0), (False, 0), (False, 0), (False, 1), (False, 1), (False, 1)]\n"
       ]
      }
     ],
     "prompt_number": 31
    },
    {
     "cell_type": "code",
     "collapsed": false,
     "input": [],
     "language": "python",
     "metadata": {},
     "outputs": []
    }
   ],
   "metadata": {}
  }
 ]
}