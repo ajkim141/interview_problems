{
 "metadata": {
  "name": "",
  "signature": "sha256:1a2cc5ba911871b2d345061b9896fb0303f014a729f91e1b4c0e72be54e7836b"
 },
 "nbformat": 3,
 "nbformat_minor": 0,
 "worksheets": [
  {
   "cells": [
    {
     "cell_type": "code",
     "collapsed": false,
     "input": [
      "def draw_grid(height, width):\n",
      "    for x in xrange(height+1):\n",
      "        print [\" \"] * width"
     ],
     "language": "python",
     "metadata": {},
     "outputs": [],
     "prompt_number": 1
    },
    {
     "cell_type": "code",
     "collapsed": false,
     "input": [
      "draw_grid(3, 3)"
     ],
     "language": "python",
     "metadata": {},
     "outputs": [
      {
       "output_type": "stream",
       "stream": "stdout",
       "text": [
        "[' ', ' ', ' ']\n",
        "[' ', ' ', ' ']\n",
        "[' ', ' ', ' ']\n",
        "[' ', ' ', ' ']\n"
       ]
      }
     ],
     "prompt_number": 2
    },
    {
     "cell_type": "code",
     "collapsed": false,
     "input": [
      "def draw_grid(grid):\n",
      "    print (grid[7] + grid[8] + grid[9])\n",
      "    print (grid[4] + grid[5] + grid[6])\n",
      "    print (grid[1] + grid[2] + grid[3])\n"
     ],
     "language": "python",
     "metadata": {},
     "outputs": [],
     "prompt_number": 3
    },
    {
     "cell_type": "code",
     "collapsed": false,
     "input": [
      "grd = \"[ ]\" * 10"
     ],
     "language": "python",
     "metadata": {},
     "outputs": [],
     "prompt_number": 8
    },
    {
     "cell_type": "code",
     "collapsed": false,
     "input": [
      "draw_grid(grd)"
     ],
     "language": "python",
     "metadata": {},
     "outputs": [
      {
       "output_type": "stream",
       "stream": "stdout",
       "text": [
        " ][\n",
        " ][\n",
        " ][\n"
       ]
      }
     ],
     "prompt_number": 9
    },
    {
     "cell_type": "code",
     "collapsed": false,
     "input": [
      "r1 = [\"X\",\"X\",\"X\",\"X\",\"X\",\"X\",\"X\"]\n",
      "r2 = [\"X\",\"X\",\"X\",\"X\",\"X\",\"X\",\"X\"]\n",
      "r3 = [\"X\",\"X\",\"X\",\"X\",\"X\",\"X\",\"X\"]\n",
      "r4 = [\"X\",\"X\",\"X\",\"X\",\"X\",\"X\",\"X\"]\n",
      "r5 = [\"X\",\"X\",\"X\",\"X\",\"X\",\"X\",\"X\"]\n",
      "r6 = [\"X\",\"X\",\"X\",\"X\",\"X\",\"X\",\"X\"]\n",
      "r7 = [\"X\",\"X\",\"X\",\"X\",\"X\",\"X\",\"X\"]\n",
      "\n",
      "board = [r1, r2, r3, r4, r5, r6, r7]\n",
      "\n",
      "# Draw the board\n",
      "\n",
      "def draw_grid(board):\n",
      "    print (\"    1    2    3    4    5    6    7\")\n",
      "    print 1 , board[0]\n",
      "    print 2 , board[1]\n",
      "    print 3 , board[2]\n",
      "    print 4 , board[3]\n",
      "    print 5 , board[4]\n",
      "    print 6 , board[5]\n",
      "    print 7 , board[6]\n",
      "    "
     ],
     "language": "python",
     "metadata": {},
     "outputs": [],
     "prompt_number": 19
    },
    {
     "cell_type": "code",
     "collapsed": false,
     "input": [
      "draw_grid(board)"
     ],
     "language": "python",
     "metadata": {},
     "outputs": [
      {
       "output_type": "stream",
       "stream": "stdout",
       "text": [
        "    1    2    3    4    5    6    7\n",
        "1 ['X', 'X', 'X', 'X', 'X', 'X', 'X']\n",
        "2 ['X', 'X', 'X', 'X', 'X', 'X', 'X']\n",
        "3 ['X', 'X', 'X', 'X', 'X', 'X', 'X']\n",
        "4 ['X', 'X', 'X', 'X', 'X', 'X', 'X']\n",
        "5 ['X', 'X', 'X', 'X', 'X', 'X', 'X']\n",
        "6 ['X', 'X', 'X', 'X', 'X', 'X', 'X']\n",
        "7 ['X', 'X', 'X', 'X', 'X', 'X', 'X']\n"
       ]
      }
     ],
     "prompt_number": 21
    },
    {
     "cell_type": "code",
     "collapsed": false,
     "input": [
      "r1 = [\"X\",\"X\",\"X\",\"X\",\"X\",\"X\",\"X\"]\n",
      "r2 = [\"X\",\"X\",\"X\",\"X\",\"X\",\"X\",\"X\"]\n",
      "r3 = [\"X\",\"X\",\"X\",\"X\",\"X\",\"X\",\"X\"]\n",
      "r4 = [\"X\",\"X\",\"X\",\"X\",\"X\",\"X\",\"X\"]\n",
      "r5 = [\"X\",\"X\",\"X\",\"X\",\"X\",\"X\",\"X\"]\n",
      "r6 = [\"X\",\"X\",\"X\",\"X\",\"X\",\"X\",\"X\"]\n",
      "r7 = [\"X\",\"X\",\"X\",\"X\",\"X\",\"X\",\"X\"]\n",
      "\n",
      "game_board = [r1, r2, r3, r4, r5, r6, r7]\n",
      "\n",
      "# Draw the board\n",
      "\n",
      "def draw_grid(board):\n",
      "    print (\"    1    2    3    4    5    6    7\")\n",
      "    print 1 , board[0]\n",
      "    print 2 , board[1]\n",
      "    print 3 , board[2]\n",
      "    print 4 , board[3]\n",
      "    print 5 , board[4]\n",
      "    print 6 , board[5]\n",
      "    print 7 , board[6]\n",
      "\n",
      "# Randomize mines\n",
      "def random_mines(board):\n",
      "    board[0] = [(False, random.randint(0, 1)),(False, random.randint(0, 1)),(False, random.randint(0, 1)),(False, random.randint(0, 1)),(False, random.randint(0, 1)),(False, random.randint(0, 1)),(False, random.randint(0, 1))]\n",
      "    board[1] = [(False, random.randint(0, 1)),(False, random.randint(0, 1)),(False, random.randint(0, 1)),(False, random.randint(0, 1)),(False, random.randint(0, 1)),(False, random.randint(0, 1)),(False, random.randint(0, 1))]\n",
      "    board[2] = [(False, random.randint(0, 1)),(False, random.randint(0, 1)),(False, random.randint(0, 1)),(False, random.randint(0, 1)),(False, random.randint(0, 1)),(False, random.randint(0, 1)),(False, random.randint(0, 1))]\n",
      "    board[3] = [(False, random.randint(0, 1)),(False, random.randint(0, 1)),(False, random.randint(0, 1)),(False, random.randint(0, 1)),(False, random.randint(0, 1)),(False, random.randint(0, 1)),(False, random.randint(0, 1))]\n",
      "    board[4] = [(False, random.randint(0, 1)),(False, random.randint(0, 1)),(False, random.randint(0, 1)),(False, random.randint(0, 1)),(False, random.randint(0, 1)),(False, random.randint(0, 1)),(False, random.randint(0, 1))]\n",
      "    board[5] = [(False, random.randint(0, 1)),(False, random.randint(0, 1)),(False, random.randint(0, 1)),(False, random.randint(0, 1)),(False, random.randint(0, 1)),(False, random.randint(0, 1)),(False, random.randint(0, 1))]\n",
      "    board[6] = [(False, random.randint(0, 1)),(False, random.randint(0, 1)),(False, random.randint(0, 1)),(False, random.randint(0, 1)),(False, random.randint(0, 1)),(False, random.randint(0, 1)),(False, random.randint(0, 1))]\n",
      "    \n",
      "    game_board = [board[0], board[1], board[2], board[3], board[4], board[5], board[6]]"
     ],
     "language": "python",
     "metadata": {},
     "outputs": [],
     "prompt_number": 30
    },
    {
     "cell_type": "code",
     "collapsed": false,
     "input": [],
     "language": "python",
     "metadata": {},
     "outputs": [],
     "prompt_number": 30
    },
    {
     "cell_type": "code",
     "collapsed": false,
     "input": [
      "draw_grid(board)"
     ],
     "language": "python",
     "metadata": {},
     "outputs": [
      {
       "output_type": "stream",
       "stream": "stdout",
       "text": [
        "    1    2    3    4    5    6    7\n",
        "1 [(False, 1), (False, 1), (False, 1), (False, 1), (False, 0), (False, 1), (False, 1)]\n",
        "2 [(False, 0), (False, 0), (False, 0), (False, 1), (False, 0), (False, 1), (False, 0)]\n",
        "3 [(False, 0), (False, 0), (False, 1), (False, 0), (False, 0), (False, 0), (False, 0)]\n",
        "4 [(False, 1), (False, 1), (False, 1), (False, 1), (False, 1), (False, 1), (False, 0)]\n",
        "5 [(False, 1), (False, 1), (False, 1), (False, 1), (False, 0), (False, 0), (False, 0)]\n",
        "6 [(False, 0), (False, 1), (False, 0), (False, 0), (False, 1), (False, 1), (False, 0)]\n",
        "7 [(False, 0), (False, 0), (False, 0), (False, 0), (False, 1), (False, 1), (False, 1)]\n"
       ]
      }
     ],
     "prompt_number": 31
    },
    {
     "cell_type": "code",
     "collapsed": false,
     "input": [
      "# Alex Kim - Minesweeper\n",
      "\n",
      "import random\n",
      "\n",
      "# Initial board setup\n",
      "\n",
      "r1 = [\"O\",\"O\",\"O\",\"O\",\"O\",\"O\",\"O\"]\n",
      "r2 = [\"O\",\"O\",\"O\",\"O\",\"O\",\"O\",\"O\"]\n",
      "r3 = [\"O\",\"O\",\"O\",\"O\",\"O\",\"O\",\"O\"]\n",
      "r4 = [\"O\",\"O\",\"O\",\"O\",\"O\",\"O\",\"O\"]\n",
      "r5 = [\"O\",\"O\",\"O\",\"O\",\"O\",\"O\",\"O\"]\n",
      "r6 = [\"O\",\"O\",\"O\",\"O\",\"O\",\"O\",\"O\"]\n",
      "r7 = [\"O\",\"O\",\"O\",\"O\",\"O\",\"O\",\"O\"]\n",
      "\n",
      "game_board = [r1, r2, r3, r4, r5, r6, r7]\n",
      "\n",
      "# Draw the board\n",
      "\n",
      "def draw_grid(board):\n",
      "    print (\"    1    2    3    4    5    6    7\")\n",
      "    interpret_row(board[0])\n",
      "    interpret_row(board[1])\n",
      "    interpret_row(board[2])\n",
      "    interpret_row(board[3])\n",
      "    interpret_row(board[4])\n",
      "    interpret_row(board[5])\n",
      "    interpret_row(board[6])\n",
      "\n",
      "# Randomize mines\n",
      "# False: space has not been revealed\n",
      "# True: space has been revealed\n",
      "# 0: empty\n",
      "# 1: mine\n",
      "def random_mines(board):\n",
      "    board[0] = [(False, random.randint(0, 1)), (False, random.randint(0, 1)), (False, random.randint(0, 1)), (False, random.randint(0, 1)), (False, random.randint(0, 1)), (False, random.randint(0, 1)), (False, random.randint(0, 1))]\n",
      "    board[1] = [(False, random.randint(0, 1)), (False, random.randint(0, 1)), (False, random.randint(0, 1)), (False, random.randint(0, 1)), (False, random.randint(0, 1)), (False, random.randint(0, 1)), (False, random.randint(0, 1))]\n",
      "    board[2] = [(False, random.randint(0, 1)), (False, random.randint(0, 1)), (False, random.randint(0, 1)), (False, random.randint(0, 1)), (False, random.randint(0, 1)), (False, random.randint(0, 1)), (False, random.randint(0, 1))]\n",
      "    board[3] = [(False, random.randint(0, 1)), (False, random.randint(0, 1)), (False, random.randint(0, 1)), (False, random.randint(0, 1)), (False, random.randint(0, 1)), (False, random.randint(0, 1)), (False, random.randint(0, 1))]\n",
      "    board[4] = [(False, random.randint(0, 1)), (False, random.randint(0, 1)), (False, random.randint(0, 1)), (False, random.randint(0, 1)), (False, random.randint(0, 1)), (False, random.randint(0, 1)), (False, random.randint(0, 1))]\n",
      "    board[5] = [(False, random.randint(0, 1)), (False, random.randint(0, 1)), (False, random.randint(0, 1)), (False, random.randint(0, 1)), (False, random.randint(0, 1)), (False, random.randint(0, 1)), (False, random.randint(0, 1))]\n",
      "    board[6] = [(False, random.randint(0, 1)), (False, random.randint(0, 1)), (False, random.randint(0, 1)), (False, random.randint(0, 1)), (False, random.randint(0, 1)), (False, random.randint(0, 1)), (False, random.randint(0, 1))]\n",
      "\n",
      "    game_board = [board[0], board[1], board[2], board[3], board[4], board[5], board[6]]\n",
      "\n",
      "    return game_board\n",
      "\n",
      "# Handle hiding and revealing spaces\n",
      "def interpret_row(row):\n",
      "    for i in row:\n",
      "        if not i[0]:\n",
      "            print \"[O]\", \"\\r\"\n",
      "        else:\n",
      "            if i[-1] == 0:\n",
      "                print \"[ ]\", \"\\r\"\n",
      "            else:\n",
      "                print \"[X]\", \"\\r\"\n",
      "\n"
     ],
     "language": "python",
     "metadata": {},
     "outputs": [],
     "prompt_number": 49
    },
    {
     "cell_type": "code",
     "collapsed": false,
     "input": [
      "random_mines(game_board)"
     ],
     "language": "python",
     "metadata": {},
     "outputs": [
      {
       "metadata": {},
       "output_type": "pyout",
       "prompt_number": 50,
       "text": [
        "[[(False, 1),\n",
        "  (False, 1),\n",
        "  (False, 0),\n",
        "  (False, 0),\n",
        "  (False, 0),\n",
        "  (False, 0),\n",
        "  (False, 1)],\n",
        " [(False, 1),\n",
        "  (False, 0),\n",
        "  (False, 1),\n",
        "  (False, 1),\n",
        "  (False, 1),\n",
        "  (False, 1),\n",
        "  (False, 0)],\n",
        " [(False, 0),\n",
        "  (False, 0),\n",
        "  (False, 0),\n",
        "  (False, 1),\n",
        "  (False, 0),\n",
        "  (False, 0),\n",
        "  (False, 0)],\n",
        " [(False, 0),\n",
        "  (False, 0),\n",
        "  (False, 1),\n",
        "  (False, 1),\n",
        "  (False, 1),\n",
        "  (False, 1),\n",
        "  (False, 1)],\n",
        " [(False, 1),\n",
        "  (False, 1),\n",
        "  (False, 1),\n",
        "  (False, 1),\n",
        "  (False, 1),\n",
        "  (False, 0),\n",
        "  (False, 0)],\n",
        " [(False, 1),\n",
        "  (False, 0),\n",
        "  (False, 0),\n",
        "  (False, 1),\n",
        "  (False, 1),\n",
        "  (False, 0),\n",
        "  (False, 0)],\n",
        " [(False, 1),\n",
        "  (False, 1),\n",
        "  (False, 0),\n",
        "  (False, 1),\n",
        "  (False, 0),\n",
        "  (False, 0),\n",
        "  (False, 0)]]"
       ]
      }
     ],
     "prompt_number": 50
    },
    {
     "cell_type": "code",
     "collapsed": false,
     "input": [
      "draw_grid(game_board)"
     ],
     "language": "python",
     "metadata": {},
     "outputs": [
      {
       "output_type": "stream",
       "stream": "stdout",
       "text": [
        "    1    2    3    4    5    6    7\n",
        "[O] \r\n",
        "[O] \r\n",
        "[O] \r\n",
        "[O] \r\n",
        "[O] \r\n",
        "[O] \r\n",
        "[O] \r\n",
        "[O] \r\n",
        "[O] \r\n",
        "[O] \r\n",
        "[O] \r\n",
        "[O] \r\n",
        "[O] \r\n",
        "[O] \r\n",
        "[O] \r\n",
        "[O] \r\n",
        "[O] \r\n",
        "[O] \r\n",
        "[O] \r\n",
        "[O] \r\n",
        "[O] \r\n",
        "[O] \r\n",
        "[O] \r\n",
        "[O] \r\n",
        "[O] \r\n",
        "[O] \r\n",
        "[O] \r\n",
        "[O] \r\n",
        "[O] \r\n",
        "[O] \r\n",
        "[O] \r\n",
        "[O] \r\n",
        "[O] \r\n",
        "[O] \r\n",
        "[O] \r\n",
        "[O] \r\n",
        "[O] \r\n",
        "[O] \r\n",
        "[O] \r\n",
        "[O] \r\n",
        "[O] \r\n",
        "[O] \r\n",
        "[O] \r\n",
        "[O] \r\n",
        "[O] \r\n",
        "[O] \r\n",
        "[O] \r\n",
        "[O] \r\n",
        "[O] \r\n"
       ]
      }
     ],
     "prompt_number": 51
    },
    {
     "cell_type": "code",
     "collapsed": false,
     "input": [],
     "language": "python",
     "metadata": {},
     "outputs": []
    }
   ],
   "metadata": {}
  }
 ]
}