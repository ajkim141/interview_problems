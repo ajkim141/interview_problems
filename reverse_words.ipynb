{
 "metadata": {
  "name": "",
  "signature": "sha256:b10d2922408d6290557366af5c59737a9af08d432bdbb55b73ae9cd89ea9c9b8"
 },
 "nbformat": 3,
 "nbformat_minor": 0,
 "worksheets": [
  {
   "cells": [
    {
     "cell_type": "markdown",
     "metadata": {},
     "source": [
      "Reverse the words in a string"
     ]
    },
    {
     "cell_type": "code",
     "collapsed": false,
     "input": [
      "stryng = 'This is my only line'"
     ],
     "language": "python",
     "metadata": {},
     "outputs": [],
     "prompt_number": 12
    },
    {
     "cell_type": "code",
     "collapsed": false,
     "input": [
      "reverse_stryng = ' '.join(stryng.split()[::-1])\n",
      "\n",
      "reverse_stryng"
     ],
     "language": "python",
     "metadata": {},
     "outputs": [
      {
       "metadata": {},
       "output_type": "pyout",
       "prompt_number": 14,
       "text": [
        "'line only my is This'"
       ]
      }
     ],
     "prompt_number": 14
    },
    {
     "cell_type": "code",
     "collapsed": false,
     "input": [],
     "language": "python",
     "metadata": {},
     "outputs": []
    }
   ],
   "metadata": {}
  }
 ]
}